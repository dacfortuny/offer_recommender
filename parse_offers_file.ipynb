{
 "cells": [
  {
   "cell_type": "markdown",
   "metadata": {},
   "source": [
    "# PARSE OFFERS FILE"
   ]
  },
  {
   "cell_type": "markdown",
   "metadata": {},
   "source": [
    "This file contains the code and functions to transform the given offers file (candidatetest_df_off_sk.csv) to a proper CSV file. It also performs a basic cleaning such as removing bullet point signs and other meaningless strings.\n",
    "\n",
    "The execution of this script takes several hours. That is the reason I provided the resulting file together with the notebooks."
   ]
  },
  {
   "cell_type": "code",
   "execution_count": null,
   "metadata": {},
   "outputs": [],
   "source": [
    "import pandas as pd"
   ]
  },
  {
   "cell_type": "markdown",
   "metadata": {},
   "source": [
    "# Settings"
   ]
  },
  {
   "cell_type": "code",
   "execution_count": null,
   "metadata": {},
   "outputs": [],
   "source": [
    "FILE_OFFERS = \"data/candidatetest_df_off.csv\"\n",
    "OUTPUT_FILE = \"data/candidatetest_df_off_fixed.csv\""
   ]
  },
  {
   "cell_type": "markdown",
   "metadata": {},
   "source": [
    "# Function"
   ]
  },
  {
   "cell_type": "code",
   "execution_count": null,
   "metadata": {},
   "outputs": [],
   "source": [
    "def ParseOffersFile(file):\n",
    "    '''\n",
    "    Read the file containing the offers data set, perform some basic cleaning and\n",
    "    saving it to a proper CSV file.\n",
    "    Args:\n",
    "    - file: File with the original offers data set.\n",
    "    Returns:\n",
    "    - Pandas dataframe with tidy offers data set.\n",
    "    '''\n",
    "    offersDf = pd.DataFrame(columns=['id', 'name', 'requirement', 'studies'])\n",
    "    with open(file, 'r') as fileRows:\n",
    "        next(fileRows)\n",
    "        for row in fileRows:\n",
    "            string = row\n",
    "            fields = string.split(\"|\")\n",
    "            fields = [s.replace(\";\" * 42, '') for s in fields]\n",
    "            fields = [s.replace(\"#Â¿NOMBRE?\", \"\") for s in fields]\n",
    "            fields = [s.replace('\"', '') for s in fields]\n",
    "            fields = [s.replace(\"\\n\", \"\") for s in fields]\n",
    "            fields = [s.replace(\"Se valorara:\", \"\") for s in fields]\n",
    "            fields = [s.replace(\"Valorable:\", \"\") for s in fields]\n",
    "            fields = [s.replace(\"Se valorara conocimientos y experiencia en\t\", \"\") for s in fields]\n",
    "            fields = [s.lstrip(\"\\*\") for s in fields]\n",
    "            fields = [s.lstrip(\"- \") for s in fields]\n",
    "            fields = [s.rstrip(\"\\.\") for s in fields]\n",
    "            if(len(fields[0]) != 0):\n",
    "                if(len(fields) == 4):\n",
    "                    id = fields[0]\n",
    "                    name = fields[1]\n",
    "                    requirement = fields[2]\n",
    "                    studies = fields[3]\n",
    "                    offersDf = offersDf.append({\"id\": id,\n",
    "                                            \"name\": name,\n",
    "                                            \"requirement\": requirement,\n",
    "                                            \"studies\": studies}, ignore_index = True)\n",
    "                else:\n",
    "                    if(len(fields) == 3):\n",
    "                        id = fields[0]\n",
    "                        name = fields[1]\n",
    "                        requirement = fields[2]\n",
    "                    if(id == '33324376082'):\n",
    "                        print(fields)\n",
    "                    if(len(fields) < 3 ):\n",
    "                        requirement = fields[0]\n",
    "                    offersDf = offersDf.append({\"id\": id,\n",
    "                                                \"name\": name,\n",
    "                                                \"requirement\": requirement}, ignore_index = True)\n",
    "                    if(len(fields) == 2):\n",
    "                        studies = fields[1]\n",
    "                        offersDf.loc[offersDf[\"id\"] == id, [\"studies\"]] = studies\n",
    "    return offersDf\n",
    "\n",
    "# TODO:\n",
    "#- Documment functions."
   ]
  },
  {
   "cell_type": "markdown",
   "metadata": {},
   "source": [
    "# Parse file"
   ]
  },
  {
   "cell_type": "code",
   "execution_count": null,
   "metadata": {},
   "outputs": [],
   "source": [
    "offers = ParseOffersFile(FILE_OFFERS)\n",
    "offers"
   ]
  },
  {
   "cell_type": "markdown",
   "metadata": {},
   "source": [
    "# Save new file"
   ]
  },
  {
   "cell_type": "code",
   "execution_count": null,
   "metadata": {},
   "outputs": [],
   "source": [
    "offers.to_csv(OUTPUT_FILE, index = False, sep = \"|\")"
   ]
  }
 ],
 "metadata": {
  "kernelspec": {
   "display_name": "Python 3",
   "language": "python",
   "name": "python3"
  },
  "language_info": {
   "codemirror_mode": {
    "name": "ipython",
    "version": 3
   },
   "file_extension": ".py",
   "mimetype": "text/x-python",
   "name": "python",
   "nbconvert_exporter": "python",
   "pygments_lexer": "ipython3",
   "version": "3.7.1"
  }
 },
 "nbformat": 4,
 "nbformat_minor": 2
}
